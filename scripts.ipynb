{
 "cells": [
  {
   "cell_type": "code",
   "execution_count": 5,
   "metadata": {},
   "outputs": [
    {
     "name": "stdout",
     "output_type": "stream",
     "text": [
      "Please enter a number:3.2\n",
      "10.240000000000002\n",
      "Please enter a number:2**100\n",
      "1606938044258990275541962092341162602522202993782792835301376\n",
      "Please enter a number:3*5\n",
      "225\n",
      "Please enter a number:stop\n",
      "done!\n"
     ]
    }
   ],
   "source": [
    "while True:\n",
    "    word = input('Please enter a number:')\n",
    "    if word == 'stop':\n",
    "        break\n",
    "    try:\n",
    "        print(eval(word)**2)\n",
    "    except:\n",
    "        print('bad'*8)\n",
    "print('done!')"
   ]
  },
  {
   "cell_type": "code",
   "execution_count": null,
   "metadata": {},
   "outputs": [],
   "source": []
  }
 ],
 "metadata": {
  "kernelspec": {
   "display_name": "Python 3",
   "language": "python",
   "name": "python3"
  },
  "language_info": {
   "codemirror_mode": {
    "name": "ipython",
    "version": 3
   },
   "file_extension": ".py",
   "mimetype": "text/x-python",
   "name": "python",
   "nbconvert_exporter": "python",
   "pygments_lexer": "ipython3",
   "version": "3.8.3"
  }
 },
 "nbformat": 4,
 "nbformat_minor": 4
}
