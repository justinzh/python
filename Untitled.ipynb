{
 "cells": [
  {
   "cell_type": "code",
   "execution_count": 1,
   "metadata": {},
   "outputs": [
    {
     "data": {
      "text/plain": [
       "['ABD', 'aBe', 'abc']"
      ]
     },
     "execution_count": 1,
     "metadata": {},
     "output_type": "execute_result"
    }
   ],
   "source": [
    "L = ['abc', 'ABD', 'aBe']\n",
    "L.sort()\n",
    "L\n"
   ]
  },
  {
   "cell_type": "code",
   "execution_count": 2,
   "metadata": {},
   "outputs": [],
   "source": [
    "L.sort(key=str.lower)"
   ]
  },
  {
   "cell_type": "code",
   "execution_count": 3,
   "metadata": {},
   "outputs": [
    {
     "data": {
      "text/plain": [
       "['abc', 'ABD', 'aBe']"
      ]
     },
     "execution_count": 3,
     "metadata": {},
     "output_type": "execute_result"
    }
   ],
   "source": [
    "L"
   ]
  },
  {
   "cell_type": "code",
   "execution_count": 4,
   "metadata": {},
   "outputs": [
    {
     "data": {
      "text/plain": [
       "['aBe', 'ABD', 'abc']"
      ]
     },
     "execution_count": 4,
     "metadata": {},
     "output_type": "execute_result"
    }
   ],
   "source": [
    "L.sort(key=str.lower, reverse = True)\n",
    "L\n"
   ]
  },
  {
   "cell_type": "code",
   "execution_count": 5,
   "metadata": {},
   "outputs": [
    {
     "name": "stdout",
     "output_type": "stream",
     "text": [
      "Help on method_descriptor:\n",
      "\n",
      "lower(self, /)\n",
      "    Return a copy of the string converted to lowercase.\n",
      "\n"
     ]
    }
   ],
   "source": [
    "help(str.lower)"
   ]
  },
  {
   "cell_type": "code",
   "execution_count": 61,
   "metadata": {},
   "outputs": [
    {
     "name": "stdout",
     "output_type": "stream",
     "text": [
      "(4, 5) found a match\n",
      "3.14 no match found!\n"
     ]
    },
    {
     "data": {
      "text/plain": [
       "[(4, 5)]"
      ]
     },
     "execution_count": 61,
     "metadata": {},
     "output_type": "execute_result"
    }
   ],
   "source": [
    "items = ['aaa', 111, (4,5), 2.01]\n",
    "tests = [(4,5), 3.14]\n",
    "for key in tests:\n",
    "    if key in items:\n",
    "        print(key, 'found a match')\n",
    "    else:\n",
    "        print(key, 'no match found!')\n",
    "        \n",
    "list = [x for x in items if x in tests]\n",
    "list"
   ]
  },
  {
   "cell_type": "code",
   "execution_count": null,
   "metadata": {},
   "outputs": [],
   "source": []
  },
  {
   "cell_type": "code",
   "execution_count": null,
   "metadata": {},
   "outputs": [],
   "source": []
  },
  {
   "cell_type": "code",
   "execution_count": 77,
   "metadata": {},
   "outputs": [
    {
     "name": "stdout",
     "output_type": "stream",
     "text": [
      "('John', 'Jenny')\n",
      "('Charles', 'Christy')\n",
      "('Mike', 'Monica')\n",
      "<class 'zip'>\n"
     ]
    }
   ],
   "source": [
    "a = (\"John\", \"Charles\", \"Mike\")\n",
    "b = (\"Jenny\", \"Christy\", \"Monica\")\n",
    "\n",
    "x = zip(a, b)\n",
    "for item in x:print(item)\n",
    "print(type(x))\n",
    "    \n"
   ]
  },
  {
   "cell_type": "code",
   "execution_count": 80,
   "metadata": {},
   "outputs": [
    {
     "name": "stdout",
     "output_type": "stream",
     "text": [
      "spam pams mspa amsp "
     ]
    }
   ],
   "source": [
    "s= 'spam'\n",
    "for i in range(len(s)):\n",
    "    s = s[i:] + s[:i]\n",
    "    print(s, end=' ')"
   ]
  },
  {
   "cell_type": "code",
   "execution_count": 92,
   "metadata": {},
   "outputs": [
    {
     "name": "stdout",
     "output_type": "stream",
     "text": [
      "m: [1, 2, 3, 4]\n",
      "l: [10, 20, 30, 40]\n",
      "m: [100, 200, 300, 400]\n",
      "l: [100, 200, 300, 400]\n"
     ]
    }
   ],
   "source": [
    "l = [1,2,3,4]\n",
    "m = l\n",
    "l = [i*10 for i in l]\n",
    "print('m:', m)\n",
    "print('l:', l)\n",
    "\n",
    "m = l\n",
    "for i in range(len(l)):\n",
    "    l[i] *= 10\n",
    "print('m:', m)\n",
    "print('l:', l)\n"
   ]
  },
  {
   "cell_type": "code",
   "execution_count": 157,
   "metadata": {},
   "outputs": [
    {
     "name": "stdout",
     "output_type": "stream",
     "text": [
      "uz: [(1, 2, 10), (3, 4, 30)]\n"
     ]
    },
    {
     "data": {
      "text/plain": [
       "\"\\nprint('uz:',[k for k in UZAB])\\n\\nX, Y, Z = zip(A, B)\\na,b = zip(X, Y, Z)\\nprint('A:', A, 'B:', B, 'X:', X, 'Y:',Y, 'a:',a, 'b:',b)\\n\""
      ]
     },
     "execution_count": 157,
     "metadata": {},
     "output_type": "execute_result"
    }
   ],
   "source": [
    "A=(1,2,10);B = (3,4,30)\n",
    "ZAB = zip(A, B)\n",
    "#print('z:',[j for j in ZAB])\n",
    "\n",
    "UZAB = zip(*ZAB)\n",
    "print('uz:',[j for j in UZAB])\n",
    "\n",
    "'''\n",
    "print('uz:',[k for k in UZAB])\n",
    "\n",
    "X, Y, Z = zip(A, B)\n",
    "a,b = zip(X, Y, Z)\n",
    "print('A:', A, 'B:', B, 'X:', X, 'Y:',Y, 'a:',a, 'b:',b)\n",
    "'''"
   ]
  },
  {
   "cell_type": "code",
   "execution_count": 139,
   "metadata": {},
   "outputs": [
    {
     "name": "stdout",
     "output_type": "stream",
     "text": [
      "[(1, 3), (2, 4), (10, 30)]\n"
     ]
    }
   ],
   "source": [
    "A = (1,2,10);B=(3,4,30)\n",
    "x = zip(A, B)\n",
    "\n",
    "print([n for n in x])"
   ]
  },
  {
   "cell_type": "code",
   "execution_count": null,
   "metadata": {},
   "outputs": [],
   "source": []
  }
 ],
 "metadata": {
  "kernelspec": {
   "display_name": "Python 3",
   "language": "python",
   "name": "python3"
  },
  "language_info": {
   "codemirror_mode": {
    "name": "ipython",
    "version": 3
   },
   "file_extension": ".py",
   "mimetype": "text/x-python",
   "name": "python",
   "nbconvert_exporter": "python",
   "pygments_lexer": "ipython3",
   "version": "3.8.3"
  }
 },
 "nbformat": 4,
 "nbformat_minor": 4
}
